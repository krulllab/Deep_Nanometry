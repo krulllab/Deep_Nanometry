{
 "cells": [
  {
   "cell_type": "markdown",
   "metadata": {},
   "source": [
    "In this notebook, we use the trained noise model to guide the training of a VAE for denoising."
   ]
  },
  {
   "cell_type": "code",
   "execution_count": 1,
   "id": "e12b4f42-e9e0-4261-b740-77a97bb9f5a9",
   "metadata": {},
   "outputs": [],
   "source": [
    "import sys\n",
    "import os\n",
    "\n",
    "import torch\n",
    "import numpy as np\n",
    "import pytorch_lightning as pl\n",
    "from pytorch_lightning.callbacks import LearningRateMonitor, EarlyStopping\n",
    "from pytorch_lightning.loggers import TensorBoardLogger\n",
    "\n",
    "sys.path.append(\"../\")\n",
    "from noise_model.PixelCNN import PixelCNN\n",
    "from HDN.models.lvae import LadderVAE\n",
    "from utils.dataloaders import create_dn_loader"
   ]
  },
  {
   "cell_type": "markdown",
   "id": "58f74c5f-c93c-4d50-aa62-edfe179df167",
   "metadata": {},
   "source": [
    "Load noisy measurements.\n",
    "These should be numpy ndarrays of shape [Number, 1, Width] or [Number, Width]. </br>"
   ]
  },
  {
   "cell_type": "code",
   "execution_count": 2,
   "id": "18d6de6a-5b86-43e4-96b9-d5936f470ccf",
   "metadata": {},
   "outputs": [],
   "source": [
    "at_particle_location = f\"./sample_data/Particle.npy\"\n",
    "at_particle = np.load(at_particle_location)\n",
    "\n",
    "# In our data, the scattering is the channel is the second\n",
    "at_particle = at_particle[:, 1]\n",
    "# We reshape it to fit pytorch's conventional input shape\n",
    "at_particle = at_particle.reshape((4000, 1, 1000))"
   ]
  },
  {
   "cell_type": "markdown",
   "id": "30c5eb3c-ddb4-4643-b935-493ad8bab88d",
   "metadata": {},
   "source": [
    "Load trained noise model and disable gradients\n"
   ]
  },
  {
   "cell_type": "code",
   "execution_count": 3,
   "id": "f7cc3352-96d3-48be-a0c8-31d7554f52c7",
   "metadata": {},
   "outputs": [],
   "source": [
    "noise_model_location = f\"../nm_checkpoint/final_params.ckpt\"\n",
    "noise_model = PixelCNN.load_from_checkpoint(noise_model_location).eval()\n",
    "\n",
    "for param in noise_model.parameters():\n",
    "    param.requires_grad = False"
   ]
  },
  {
   "cell_type": "markdown",
   "id": "38b7961a-d92b-4162-af38-06cef2679784",
   "metadata": {},
   "source": [
    "Create data loaders and get the shape, mean and standard deviation of the noisy images.</br>"
   ]
  },
  {
   "cell_type": "code",
   "execution_count": 4,
   "id": "0bd69b48-dae5-4f85-9dfc-fc3fd484906d",
   "metadata": {},
   "outputs": [],
   "source": [
    "dn_train_loader, dn_val_loader, img_width, data_mean, data_std = create_dn_loader(\n",
    "    at_particle, batch_size=32, split=0.9\n",
    ")"
   ]
  },
  {
   "cell_type": "markdown",
   "id": "af4f1954-7bda-455e-9106-f99ab08c087c",
   "metadata": {},
   "source": [
    "Set denoiser checkpoint directory\n"
   ]
  },
  {
   "cell_type": "code",
   "execution_count": 5,
   "id": "b4a0c501-3246-4eb0-bf7f-91b5ca4a5360",
   "metadata": {},
   "outputs": [],
   "source": [
    "dn_checkpoint_path = f\"../dn_checkpoint\""
   ]
  },
  {
   "cell_type": "markdown",
   "id": "d625debb",
   "metadata": {},
   "source": [
    "Initialise trainer and noise model.</br>\n"
   ]
  },
  {
   "cell_type": "markdown",
   "id": "ecb0fa1f",
   "metadata": {},
   "source": [
    "The defauly hyperparameters should work for most cases, but if training takes too long or an out of memory error is encountered, the `num_latents` can be decreased to `6`to reduce the size of the network while still getting good results. Alternatively, better performance could be achieved by increasing the `num_latents` to `10` and `z_dims` to `[64] * num_latents`.</br>\n",
    "Sometimes, increasing `dropout` to `0.1` or `0.2` can help when working with a limited amount of training data.</br>"
   ]
  },
  {
   "cell_type": "markdown",
   "id": "c052de2c",
   "metadata": {},
   "source": [
    "Note that here we train for a maximum of 100 epochs to get adequate results in about an hour. Change `max_epochs` to 1000 to train the model fully."
   ]
  },
  {
   "cell_type": "code",
   "execution_count": 6,
   "id": "85ac5978-be0c-42c1-a426-404eb89bae2c",
   "metadata": {},
   "outputs": [
    {
     "name": "stderr",
     "output_type": "stream",
     "text": [
      "GPU available: True (cuda), used: True\n",
      "TPU available: False, using: 0 TPU cores\n",
      "IPU available: False, using: 0 IPUs\n",
      "HPU available: False, using: 0 HPUs\n",
      "/home/ben/miniforge3/envs/dnm/lib/python3.12/site-packages/pytorch_lightning/utilities/parsing.py:199: Attribute 'noise_model' is an instance of `nn.Module` and is already saved during checkpointing. It is recommended to ignore them using `self.save_hyperparameters(ignore=['noise_model'])`.\n"
     ]
    }
   ],
   "source": [
    "use_cuda = torch.cuda.is_available()\n",
    "trainer = pl.Trainer(\n",
    "    default_root_dir=dn_checkpoint_path,\n",
    "    accelerator=\"gpu\" if use_cuda else \"cpu\",\n",
    "    devices=1,\n",
    "    max_epochs=100,\n",
    "    logger=TensorBoardLogger(dn_checkpoint_path),\n",
    "    log_every_n_steps=len(dn_train_loader),\n",
    "    callbacks=[LearningRateMonitor(logging_interval=\"epoch\"),\n",
    "               EarlyStopping(monitor='val/elbo', patience=50)],\n",
    ")\n",
    "\n",
    "num_latents = 8\n",
    "z_dims = [32] * num_latents\n",
    "vae = LadderVAE(\n",
    "    z_dims=z_dims,\n",
    "    noise_model=noise_model,\n",
    "    img_width=img_width,\n",
    "    dropout=0.0,\n",
    "    data_mean=data_mean,\n",
    "    data_std=data_std,\n",
    ")"
   ]
  },
  {
   "cell_type": "markdown",
   "id": "35c83726",
   "metadata": {},
   "source": [
    "Train and save final parameters</br>\n",
    "Training logs can be monitored on Tensorboard. Open a terminal, activate the dnm environment with Tensorboard installed and enter `tensorboard --logdir path/to/autonoise/nm_checkpoint/` then open a browser and enter localhost:6006. "
   ]
  },
  {
   "cell_type": "markdown",
   "id": "a46d95c6",
   "metadata": {},
   "source": [
    "The main metric to monitor here is the validation reconstruction loss, or val/reconstruction_loss. This should go down sharply at first then level off. The kl divergence, or kl_loss, is expected to go either up or down. The evidence lower bound, or elbo, is the sum of these two losses, and training should stop when both of these have plateaued. "
   ]
  },
  {
   "cell_type": "code",
   "execution_count": 7,
   "id": "e5ed2091-5c33-480b-9ea3-aa1a2eb70adf",
   "metadata": {},
   "outputs": [
    {
     "name": "stderr",
     "output_type": "stream",
     "text": [
      "You are using a CUDA device ('NVIDIA GeForce RTX 3090') that has Tensor Cores. To properly utilize them, you should set `torch.set_float32_matmul_precision('medium' | 'high')` which will trade-off precision for performance. For more details, read https://pytorch.org/docs/stable/generated/torch.set_float32_matmul_precision.html#torch.set_float32_matmul_precision\n",
      "LOCAL_RANK: 0 - CUDA_VISIBLE_DEVICES: [0,1]\n",
      "/home/ben/miniforge3/envs/dnm/lib/python3.12/site-packages/torch/optim/lr_scheduler.py:28: UserWarning: The verbose parameter is deprecated. Please use get_last_lr() to access the learning rate.\n",
      "  warnings.warn(\"The verbose parameter is deprecated. Please use get_last_lr() \"\n",
      "\n",
      "  | Name             | Type       | Params\n",
      "------------------------------------------------\n",
      "0 | noise_model      | PixelCNN   | 8.9 K \n",
      "1 | first_bottom_up  | Sequential | 25.3 K\n",
      "2 | top_down_layers  | ModuleList | 1.2 M \n",
      "3 | bottom_up_layers | ModuleList | 365 K \n",
      "4 | final_top_down   | Sequential | 33.5 K\n",
      "------------------------------------------------\n",
      "1.6 M     Trainable params\n",
      "8.9 K     Non-trainable params\n",
      "1.6 M     Total params\n",
      "6.457     Total estimated model params size (MB)\n"
     ]
    },
    {
     "name": "stdout",
     "output_type": "stream",
     "text": [
      "Sanity Checking DataLoader 0:   0%|          | 0/2 [00:00<?, ?it/s]"
     ]
    },
    {
     "name": "stderr",
     "output_type": "stream",
     "text": [
      "/home/ben/miniforge3/envs/dnm/lib/python3.12/site-packages/pytorch_lightning/trainer/connectors/data_connector.py:441: The 'val_dataloader' does not have many workers which may be a bottleneck. Consider increasing the value of the `num_workers` argument` to `num_workers=35` in the `DataLoader` to improve performance.\n"
     ]
    },
    {
     "name": "stdout",
     "output_type": "stream",
     "text": [
      "                                                                           "
     ]
    },
    {
     "name": "stderr",
     "output_type": "stream",
     "text": [
      "/home/ben/miniforge3/envs/dnm/lib/python3.12/site-packages/pytorch_lightning/trainer/connectors/data_connector.py:441: The 'train_dataloader' does not have many workers which may be a bottleneck. Consider increasing the value of the `num_workers` argument` to `num_workers=35` in the `DataLoader` to improve performance.\n"
     ]
    },
    {
     "name": "stdout",
     "output_type": "stream",
     "text": [
      "Epoch 0:   2%|▏         | 2/113 [00:00<00:32,  3.40it/s, v_num=1]"
     ]
    },
    {
     "name": "stderr",
     "output_type": "stream",
     "text": [
      "/home/ben/miniforge3/envs/dnm/lib/python3.12/site-packages/torch/autograd/graph.py:744: UserWarning: Plan failed with a cudnnException: CUDNN_BACKEND_EXECUTION_PLAN_DESCRIPTOR: cudnnFinalize Descriptor Failed cudnn_status: CUDNN_STATUS_NOT_SUPPORTED (Triggered internally at /opt/conda/conda-bld/pytorch_1712608847532/work/aten/src/ATen/native/cudnn/Conv_v8.cpp:919.)\n",
      "  return Variable._execution_engine.run_backward(  # Calls into the C++ engine to run the backward pass\n"
     ]
    },
    {
     "name": "stdout",
     "output_type": "stream",
     "text": [
      "Epoch 99: 100%|██████████| 113/113 [00:14<00:00,  7.75it/s, v_num=1]"
     ]
    },
    {
     "name": "stderr",
     "output_type": "stream",
     "text": [
      "`Trainer.fit` stopped: `max_epochs=100` reached.\n"
     ]
    },
    {
     "name": "stdout",
     "output_type": "stream",
     "text": [
      "Epoch 99: 100%|██████████| 113/113 [00:14<00:00,  7.66it/s, v_num=1]\n"
     ]
    }
   ],
   "source": [
    "trainer.fit(vae, dn_train_loader, dn_val_loader)\n",
    "trainer.save_checkpoint(os.path.join(dn_checkpoint_path, \"final_params.ckpt\"))"
   ]
  },
  {
   "cell_type": "code",
   "execution_count": null,
   "id": "f391d0f1",
   "metadata": {},
   "outputs": [],
   "source": []
  }
 ],
 "metadata": {
  "kernelspec": {
   "display_name": "Python 3 (ipykernel)",
   "language": "python",
   "name": "python3"
  },
  "language_info": {
   "codemirror_mode": {
    "name": "ipython",
    "version": 3
   },
   "file_extension": ".py",
   "mimetype": "text/x-python",
   "name": "python",
   "nbconvert_exporter": "python",
   "pygments_lexer": "ipython3",
   "version": "3.12.3"
  }
 },
 "nbformat": 4,
 "nbformat_minor": 5
}
